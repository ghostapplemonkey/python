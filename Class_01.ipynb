{
 "cells": [
  {
   "cell_type": "code",
   "execution_count": 11,
   "id": "25896de4",
   "metadata": {},
   "outputs": [
    {
     "name": "stdout",
     "output_type": "stream",
     "text": [
      "0,1,2,3,4,5,6,7,8,9,10,"
     ]
    }
   ],
   "source": [
    "def print_number():\n",
    "    for i in range(11):\n",
    "        print(i,end=\",\")\n",
    "\n",
    "print_number()"
   ]
  },
  {
   "cell_type": "code",
   "execution_count": 12,
   "id": "ce0d5136",
   "metadata": {},
   "outputs": [
    {
     "name": "stdout",
     "output_type": "stream",
     "text": [
      "0,1,2,3,4,5,6,"
     ]
    }
   ],
   "source": [
    "def print_number(n):\n",
    "    for i in range(n+1):\n",
    "        print(i,end=\",\")\n",
    "\n",
    "print_number(6)"
   ]
  },
  {
   "cell_type": "code",
   "execution_count": 13,
   "id": "77bfc702",
   "metadata": {},
   "outputs": [
    {
     "name": "stdout",
     "output_type": "stream",
     "text": [
      "3,4,5,6,7,8,9,10,11,12,13,14,15,16,17,18,19,"
     ]
    }
   ],
   "source": [
    "def print_number(n1,n2):\n",
    "    for i in range(n1,n2+1):\n",
    "        print(i,end=\",\")\n",
    "\n",
    "print_number(3,19)"
   ]
  },
  {
   "cell_type": "code",
   "execution_count": 38,
   "id": "f8afb372",
   "metadata": {},
   "outputs": [
    {
     "name": "stdout",
     "output_type": "stream",
     "text": [
      "4,6,8,10,12,14,16,18,"
     ]
    }
   ],
   "source": [
    "def print_number(n1,n2):\n",
    "    for i in range(n1,n2+1):\n",
    "        if i % 2 == 0:\n",
    "            print(i,end=\",\")\n",
    "\n",
    "print_number(3,19)"
   ]
  },
  {
   "cell_type": "code",
   "execution_count": 39,
   "id": "7fc3cc53",
   "metadata": {},
   "outputs": [],
   "source": [
    "names = ['Charles', 'Capri', 'Lucas', 'Tim', 'Yong', 'Justyna']"
   ]
  },
  {
   "cell_type": "code",
   "execution_count": 40,
   "id": "ffa23164",
   "metadata": {},
   "outputs": [
    {
     "name": "stdout",
     "output_type": "stream",
     "text": [
      "Charles,Capri,Lucas,Tim,Yong,Justyna,"
     ]
    }
   ],
   "source": [
    "def print_list(lst):\n",
    "    for i in range(len(lst)):\n",
    "        print(lst[i],end=\",\")\n",
    "print_list(names)"
   ]
  },
  {
   "cell_type": "code",
   "execution_count": 45,
   "id": "61e21e33",
   "metadata": {
    "scrolled": true
   },
   "outputs": [
    {
     "name": "stdout",
     "output_type": "stream",
     "text": [
      "Charles,Capri,Lucas,"
     ]
    }
   ],
   "source": [
    "def print_list_first(lst):\n",
    "    for i in range(len(lst)//2):\n",
    "        print(lst[i],end=\",\")\n",
    "print_list_first(names)"
   ]
  },
  {
   "cell_type": "code",
   "execution_count": 46,
   "id": "a3c3cf00",
   "metadata": {},
   "outputs": [
    {
     "name": "stdout",
     "output_type": "stream",
     "text": [
      "Tim,Yong,Justyna,"
     ]
    }
   ],
   "source": [
    "def print_list_second(lst):\n",
    "    for i in range(len(lst)//2,len(lst)):\n",
    "        print(lst[i],end=\",\")\n",
    "print_list_second(names)"
   ]
  },
  {
   "cell_type": "code",
   "execution_count": 43,
   "id": "479e88ab",
   "metadata": {},
   "outputs": [
    {
     "name": "stdout",
     "output_type": "stream",
     "text": [
      "1,37,90,3,5466,"
     ]
    }
   ],
   "source": [
    "floats = [1.23564626,36.653158,89.9354654,3.14159254,5465.7215315]\n",
    "def print_list_floats(lst):\n",
    "    for i in range(len(lst)):\n",
    "        print(int(round(lst[i],0)),end=\",\")\n",
    "print_list_floats(floats)"
   ]
  },
  {
   "cell_type": "code",
   "execution_count": 53,
   "id": "3a2b2c9d",
   "metadata": {
    "scrolled": false
   },
   "outputs": [
    {
     "name": "stdout",
     "output_type": "stream",
     "text": [
      "Justyna,Yong,Tim,Lucas,Capri,Charles,"
     ]
    }
   ],
   "source": [
    "def print_list_reverse(lst):\n",
    "    for i in range(len(lst)):\n",
    "        print(lst[len(lst)-1-i],end=\",\")\n",
    "print_list_reverse(names)"
   ]
  },
  {
   "cell_type": "code",
   "execution_count": 56,
   "id": "9e5acd48",
   "metadata": {},
   "outputs": [
    {
     "name": "stdout",
     "output_type": "stream",
     "text": [
      "25,64,225,1521,676,"
     ]
    }
   ],
   "source": [
    "ints = [5,8,15,39,26]\n",
    "def print_list_square(lst):\n",
    "    for i in range(len(lst)):\n",
    "        print(lst[i]**2,end=\",\")\n",
    "print_list_square(ints)"
   ]
  },
  {
   "cell_type": "code",
   "execution_count": 63,
   "id": "73a21c9b",
   "metadata": {},
   "outputs": [
    {
     "name": "stdout",
     "output_type": "stream",
     "text": [
      "Yong\n"
     ]
    }
   ],
   "source": [
    "def print_element_in_list(lst, element):\n",
    "    for i in range(len(lst)):\n",
    "        if element == lst[i]:\n",
    "            print(element)\n",
    "print_element_in_list(names,\"Yong\")"
   ]
  },
  {
   "cell_type": "code",
   "execution_count": 68,
   "id": "382111c4",
   "metadata": {},
   "outputs": [
    {
     "name": "stdout",
     "output_type": "stream",
     "text": [
      "Tim,Yong,Justyna,"
     ]
    }
   ],
   "source": [
    "def print_element(lst, n1, n2):\n",
    "    for i in range(n1-1, n2):\n",
    "        print(lst[i], end=\",\")\n",
    "print_element(names, 4, 6)"
   ]
  },
  {
   "cell_type": "code",
   "execution_count": 71,
   "id": "05ac2671",
   "metadata": {},
   "outputs": [
    {
     "name": "stdout",
     "output_type": "stream",
     "text": [
      "48,32,86,"
     ]
    }
   ],
   "source": [
    "int = [48,32,65,73,86,59]\n",
    "def print_even(lst):\n",
    "    for i in range(len(lst)):\n",
    "        if lst[i] % 2 == 0:\n",
    "            print(lst[i],end=\",\")\n",
    "\n",
    "print_even(int)"
   ]
  },
  {
   "cell_type": "code",
   "execution_count": 1,
   "id": "701ac04d",
   "metadata": {},
   "outputs": [
    {
     "name": "stdout",
     "output_type": "stream",
     "text": [
      "2\n",
      "4\n",
      "7\n",
      "9\n"
     ]
    }
   ],
   "source": [
    "num = [2,3,4,5,6,7,8,9,10]\n",
    "is_a_prime = []\n",
    "def print_prime(lst):\n",
    "    for i in range(len(lst)-1):\n",
    "        for j in range(1,lst[i]-1):\n",
    "            if lst[i] % (lst[i] - j) == 0:\n",
    "                is_a_prime.append(False)\n",
    "        is_a_prime.append(True)\n",
    "print_prime(num)\n",
    "for i in range(len(num)-1):\n",
    "    if is_a_prime[i] == True:\n",
    "        print(num[i])\n",
    "        \n",
    "# Not finish"
   ]
  },
  {
   "cell_type": "code",
   "execution_count": 83,
   "id": "1ab42ede",
   "metadata": {},
   "outputs": [
    {
     "name": "stdout",
     "output_type": "stream",
     "text": [
      "3\n"
     ]
    }
   ],
   "source": [
    "from random import randint\n",
    "def roll_die(sides):\n",
    "    return randint(1,sides)\n",
    "print(roll_die(6))"
   ]
  },
  {
   "cell_type": "code",
   "execution_count": 85,
   "id": "95b153f0",
   "metadata": {},
   "outputs": [
    {
     "name": "stdout",
     "output_type": "stream",
     "text": [
      "Charles\n"
     ]
    }
   ],
   "source": [
    "def print_first(lst):\n",
    "    return lst[0]\n",
    "print(print_first(names))"
   ]
  },
  {
   "cell_type": "code",
   "execution_count": 86,
   "id": "f9d1c997",
   "metadata": {},
   "outputs": [
    {
     "name": "stdout",
     "output_type": "stream",
     "text": [
      "Justyna\n"
     ]
    }
   ],
   "source": [
    "def print_last(lst):\n",
    "    return lst[len(lst)-1]\n",
    "print(print_last(names))"
   ]
  },
  {
   "cell_type": "code",
   "execution_count": 90,
   "id": "be4112b7",
   "metadata": {},
   "outputs": [
    {
     "name": "stdout",
     "output_type": "stream",
     "text": [
      "True\n"
     ]
    }
   ],
   "source": [
    "def is_in_list(lst, element):\n",
    "    for i in range(len(lst)):\n",
    "        if lst[i] == element:\n",
    "            return True\n",
    "    return False\n",
    "print(is_in_list(names,\"Yong\"))"
   ]
  },
  {
   "cell_type": "code",
   "execution_count": 91,
   "id": "82b61eb8",
   "metadata": {},
   "outputs": [
    {
     "name": "stdout",
     "output_type": "stream",
     "text": [
      "True\n"
     ]
    }
   ],
   "source": [
    "print(\"Yong\" in names)"
   ]
  },
  {
   "cell_type": "code",
   "execution_count": null,
   "id": "06634c22",
   "metadata": {},
   "outputs": [],
   "source": []
  }
 ],
 "metadata": {
  "kernelspec": {
   "display_name": "Python 3",
   "language": "python",
   "name": "python3"
  },
  "language_info": {
   "codemirror_mode": {
    "name": "ipython",
    "version": 3
   },
   "file_extension": ".py",
   "mimetype": "text/x-python",
   "name": "python",
   "nbconvert_exporter": "python",
   "pygments_lexer": "ipython3",
   "version": "3.8.8"
  }
 },
 "nbformat": 4,
 "nbformat_minor": 5
}
